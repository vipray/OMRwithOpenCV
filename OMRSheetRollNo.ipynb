{
 "cells": [
  {
   "cell_type": "markdown",
   "metadata": {},
   "source": [
    "# OMR SHEET Roll Number Extraction\n"
   ]
  },
  {
   "cell_type": "code",
   "execution_count": 21,
   "metadata": {},
   "outputs": [],
   "source": [
    "import cv2\n",
    "import numpy as np\n",
    "\n",
    "# Load image as greyscale \n",
    "image = cv2.imread('screens/rsz_1rsz_1omr4.jpg',0)\n",
    "cv2.imshow('Original', image)\n",
    "cv2.waitKey(0)\n",
    "cv2.destroyAllWindows()\n",
    "\n"
   ]
  },
  {
   "cell_type": "code",
   "execution_count": 22,
   "metadata": {},
   "outputs": [],
   "source": [
    "# Let's Scale the size of our image\n",
    "image2 = cv2.resize(image.copy(), None, fx=1.2, fy=1.2, interpolation = cv2.INTER_CUBIC)\n",
    "cv2.imshow('Scaling (Interpolation)', image2)\n",
    "cv2.waitKey(0)\n",
    "cv2.destroyAllWindows()"
   ]
  },
  {
   "cell_type": "code",
   "execution_count": 23,
   "metadata": {},
   "outputs": [],
   "source": [
    "# Blur to remove noise using gaussian kernel\n",
    "blur = cv2.GaussianBlur(image2.copy(), (5,5), 0)\n",
    "cv2.imshow('Gaussian Blurring', blur)\n",
    "cv2.waitKey(0)\n",
    "cv2.destroyAllWindows()"
   ]
  },
  {
   "cell_type": "code",
   "execution_count": 24,
   "metadata": {},
   "outputs": [],
   "source": [
    "# Second attribute can be manipulated according to the image\n",
    "ret,thresh = cv2.threshold(blur.copy(), 225, 255, cv2.THRESH_BINARY_INV)\n",
    "cv2.imshow('Threshold Binary', thresh)\n",
    "cv2.waitKey(0) \n",
    "cv2.destroyAllWindows()"
   ]
  },
  {
   "cell_type": "code",
   "execution_count": 25,
   "metadata": {},
   "outputs": [],
   "source": [
    "# Canny Edge Detection uses gradient values as thresholds\n",
    "edged = cv2.Canny(thresh, 75, 200)\n",
    "cv2.imshow('Canny', edged)\n",
    "cv2.waitKey(0)\n",
    "\n",
    "cv2.destroyAllWindows()"
   ]
  },
  {
   "cell_type": "code",
   "execution_count": 26,
   "metadata": {
    "tags": []
   },
   "outputs": [
    {
     "output_type": "stream",
     "name": "stdout",
     "text": "Total Number of contours found =  154\nNumber of Flitered contours found =  61\n"
    }
   ],
   "source": [
    "# Find contours and print how many were found\n",
    "warpedEdged =edged.copy()\n",
    "contours, hierarchy = cv2.findContours(warpedEdged.copy(), cv2.RETR_EXTERNAL, cv2.CHAIN_APPROX_NONE)\n",
    "print (\"Total Number of contours found = \", len(contours))\n",
    "\n",
    "circularCnts = []\n",
    "for c in contours:\n",
    "    (x, y, w, h) = cv2.boundingRect(c)\n",
    "    ar = w / float(h)\n",
    "    # in order to label the contour as a bubble, region\n",
    "    # should be sufficiently wide, sufficiently tall, and\n",
    "    # have an aspect ratio approximately equal to 1\n",
    "    if w >= 20 and h >= 20 and ar >= 0.9 and ar <= 1.1:\n",
    "        circularCnts.append(c)\n",
    "\n",
    "print (\"Number of Flitered contours found = \", len(circularCnts))\n"
   ]
  },
  {
   "cell_type": "code",
   "execution_count": 27,
   "metadata": {
    "tags": []
   },
   "outputs": [],
   "source": [
    "'''\n",
    "# This is to apply more strict filter on circles by using \n",
    "# matchShapes method of open\n",
    "# match each filtered contour with this circular image for more strict filtering\n",
    "# so that to remove all noisy contours\n",
    "'''\n",
    "# Load the Circular image\n",
    "template = cv2.imread('screens/Black_Circle.jpg',0)\n",
    "cv2.imshow('Template', template)\n",
    "cv2.waitKey(0)\n",
    "cv2.destroyAllWindows()\n",
    "\n",
    "# Threshold image first before using cv2.findContours\n",
    "ret, thresh1 = cv2.threshold(template, 127, 255, 0)\n",
    "\n",
    "# Find contours in template\n",
    "contours2, hierarchy2 = cv2.findContours(thresh1, cv2.RETR_TREE, cv2.CHAIN_APPROX_SIMPLE)\n",
    "\n",
    "# We need to sort the contours by area so that we can remove the largest\n",
    "# contour which is the image outline\n",
    "sorted_contours = sorted(contours2, key=cv2.contourArea, reverse=True)\n",
    "#print(len(sorted_contours))\n",
    "\n",
    "# We extract the second largest contour which will be our template contour\n",
    "template_contour = sorted_contours[1]"
   ]
  },
  {
   "cell_type": "code",
   "execution_count": 28,
   "metadata": {
    "tags": []
   },
   "outputs": [
    {
     "output_type": "stream",
     "name": "stdout",
     "text": "60\n"
    }
   ],
   "source": [
    "target = image2.copy()\n",
    "\n",
    "for c in circularCnts:\n",
    "    # Iterate through each contour in the target image and \n",
    "    # use cv2.matchShapes to compare contour shapes\n",
    "    match = cv2.matchShapes(template_contour, c, 3, 0.0)\n",
    "    #print(match)                \n",
    "        \n",
    "    if(match<0.03):\n",
    "        cv2.drawContours(target, [c], -1, (0,255,255), 1)\n",
    "    else:\n",
    "        circularCnts.remove(c)\n",
    "\n",
    "#----------------------------------------\n",
    "print(len(circularCnts))\n",
    "\n",
    "cv2.imshow('Output', target)\n",
    "cv2.waitKey()        \n",
    "cv2.destroyAllWindows()"
   ]
  },
  {
   "cell_type": "code",
   "execution_count": 29,
   "metadata": {},
   "outputs": [],
   "source": [
    "def x_cord_contour(contours):\n",
    "    #Returns the X cordinate for the contour centroid\n",
    "    M = cv2.moments(contours)\n",
    "    return (int(M['m10']/M['m00']))\n",
    "    \n",
    "def y_cord_contour(contours):\n",
    "    #Returns the Y cordinate for the contour centroid\n",
    "    M = cv2.moments(contours)\n",
    "    return (int(M['m01']/M['m00']))\n",
    "    \n",
    "# Need to sort coloumn wise\n",
    "# So first sort by x_cord_contour function and then\n",
    "# sort group of 10 contours by y_cord_contour\n",
    "contours_top_to_bottom = sorted(questionCnts, key = x_cord_contour, reverse = False)"
   ]
  },
  {
   "cell_type": "code",
   "execution_count": 30,
   "metadata": {},
   "outputs": [],
   "source": [
    "paper = image2.copy()"
   ]
  },
  {
   "cell_type": "code",
   "execution_count": 31,
   "metadata": {},
   "outputs": [],
   "source": [
    "warpedThresh = thresh\n",
    "roll =\"\"\n",
    "\n",
    "for (q, i) in enumerate(np.arange(0, len(contours_top_to_bottom), 10)):\n",
    "    # sort the contours for the current coloumn from\n",
    "    # top to bottom, then initialize the index of the\n",
    "    # bubbled answer\n",
    "    \n",
    "    cnts = sorted(contours_top_to_bottom[i:i + 10], key = y_cord_contour, reverse = False)\n",
    "    #print(len(cnts))\n",
    "    bubbled = None\n",
    "    \n",
    "    # loop over the sorted contours\n",
    "    for (j, c) in enumerate(cnts):\n",
    "        # construct a mask that reveals only the current\n",
    "        # \"bubble\" for the column\n",
    "        mask = np.zeros(warpedThresh.shape, dtype=\"uint8\")\n",
    "        cv2.drawContours(mask, [c], -1, 255, -1)\n",
    "        \n",
    "        # apply the mask to the thresholded image, then\n",
    "        # count the number of non-zero pixels in the\n",
    "        # bubble area\n",
    "        mask = cv2.bitwise_and(warpedThresh, warpedThresh, mask=mask)\n",
    "        \n",
    "        #cv2.drawContours(mask, [c], -1, 255, -1)\n",
    "        #This will illustrate the working of mask \n",
    "        if(i==0):    \n",
    "            cv2.imshow('Outputly', warpedThresh)\n",
    "            cv2.imshow('Output', mask)\n",
    "            cv2.waitKey()        \n",
    "            cv2.destroyAllWindows()\n",
    "\n",
    "        \n",
    "        total = cv2.countNonZero(mask)\n",
    "        #print(total)\n",
    "        # if the current total has a larger number of total\n",
    "        # non-zero pixels, then we are examining the currently\n",
    "        # bubbled-in marked\n",
    "        if bubbled is None or total > bubbled[0]:\n",
    "            bubbled = (total, j)\n",
    "        # initialize the contour color and the index of the\n",
    "    color = (0, 0, 255)\n",
    "    k = bubbled[1]\n",
    "    roll = roll + str(k)\n",
    "    # draw the outline of the correct answer on the test\n",
    "    cv2.drawContours(paper, [cnts[k]], -1, color, 3)"
   ]
  },
  {
   "cell_type": "code",
   "execution_count": 34,
   "metadata": {},
   "outputs": [],
   "source": [
    "cv2.imshow(\"Original\", image)\n",
    "cv2.imshow(\"Drawed\", paper)\n",
    "cv2.waitKey(0)\n",
    "cv2.destroyAllWindows()"
   ]
  },
  {
   "cell_type": "code",
   "execution_count": 33,
   "metadata": {
    "tags": []
   },
   "outputs": [
    {
     "output_type": "stream",
     "name": "stdout",
     "text": "062525\n"
    }
   ],
   "source": [
    "print(roll)"
   ]
  }
 ],
 "metadata": {
  "kernelspec": {
   "display_name": "Python 3",
   "language": "python",
   "name": "python3"
  },
  "language_info": {
   "codemirror_mode": {
    "name": "ipython",
    "version": 3
   },
   "file_extension": ".py",
   "mimetype": "text/x-python",
   "name": "python",
   "nbconvert_exporter": "python",
   "pygments_lexer": "ipython3",
   "version": "3.7.6-final"
  }
 },
 "nbformat": 4,
 "nbformat_minor": 4
}