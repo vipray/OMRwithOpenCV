{
 "cells": [
  {
   "cell_type": "markdown",
   "metadata": {},
   "source": [
    "# OMR SHEET Evauation\n"
   ]
  },
  {
   "cell_type": "code",
   "execution_count": 18,
   "metadata": {},
   "outputs": [],
   "source": [
    "import cv2\n",
    "import numpy as np\n",
    "\n",
    "# Load image as greyscale \n",
    "image = cv2.imread('omrSheet2F.png',0)\n",
    "# Load image orginal \n",
    "imageOrginal = cv2.imread('omrSheet2F.png')\n",
    "\n",
    "#show image\n",
    "cv2.imshow('Original (GrayScale)', image)\n",
    "#wait till any key press\n",
    "cv2.waitKey(0)\n",
    "#close all image screen\n",
    "cv2.destroyAllWindows()\n",
    "\n"
   ]
  },
  {
   "cell_type": "code",
   "execution_count": null,
   "metadata": {},
   "outputs": [],
   "source": [
    "# Scale image if required\n",
    "'''\n",
    "image = cv2.resize(image, None, fx=2, fy=2, interpolation = cv2.INTER_CUBIC)\n",
    "imageOrginal = cv2.resize(imageOrginal, None, fx=2, fy=2, interpolation = cv2.INTER_CUBIC)\n",
    "\n",
    "cv2.imshow('Scaling (Interpolation)', image)\n",
    "cv2.waitKey(0)\n",
    "cv2.destroyAllWindows()\n",
    "'''"
   ]
  },
  {
   "cell_type": "code",
   "execution_count": 2,
   "metadata": {},
   "outputs": [],
   "source": [
    "# GaussianBlur to remove image \n",
    "blur = cv2.GaussianBlur(image.copy(), (5,5), 0)\n",
    "cv2.imshow('Gaussian Blurring', blur)\n",
    "cv2.waitKey(0)\n",
    "cv2.destroyAllWindows()"
   ]
  },
  {
   "cell_type": "code",
   "execution_count": 3,
   "metadata": {},
   "outputs": [],
   "source": [
    "# Values below 225 goes to 0 (black), everything above goes to 255 (white)\n",
    "ret,thresh = cv2.threshold(blur, 225, 255, cv2.THRESH_BINARY)\n",
    "cv2.imshow('Threshold Binary', thresh)\n",
    "cv2.waitKey(0) \n",
    "cv2.destroyAllWindows()"
   ]
  },
  {
   "cell_type": "code",
   "execution_count": 4,
   "metadata": {},
   "outputs": [],
   "source": [
    "# Canny Edge Detection\n",
    "edged = cv2.Canny(blur, 75, 200)\n",
    "cv2.imshow('Canny', edged)\n",
    "cv2.waitKey(0)\n",
    "cv2.destroyAllWindows()"
   ]
  },
  {
   "cell_type": "code",
   "execution_count": 5,
   "metadata": {
    "tags": []
   },
   "outputs": [
    {
     "output_type": "stream",
     "name": "stdout",
     "text": "Number of contours =  1\n"
    }
   ],
   "source": [
    "# This will find out the OMR as a whole\n",
    "# Find contours and print how many were found\n",
    "contours, hierarchy = cv2.findContours(thresh.copy(), cv2.RETR_EXTERNAL, cv2.CHAIN_APPROX_NONE)\n",
    "print (\"Number of contours = \", len(contours))\n",
    "\n",
    "contours = sorted(contours, key=cv2.contourArea, reverse=True)\n"
   ]
  },
  {
   "cell_type": "code",
   "execution_count": 6,
   "metadata": {},
   "outputs": [],
   "source": [
    "img = imageOrginal.copy()\n",
    "sheetContour = None\n",
    "   \n",
    "#finding Rectangular Contour(Rectangular Sheet OMR)\n",
    "for cnt in contours:\n",
    "    \n",
    "    # Get approximate polygons\n",
    "    approx = cv2.approxPolyDP(cnt, 0.02*cv2.arcLength(cnt,True),True)\n",
    "    \n",
    "    if len(approx) == 4:    #if 4 dimentions means it will be rectangle\n",
    "        sheetContour = cnt\n",
    "        # determine the most extreme points along the contour\n",
    "        extTopLeft  = (approx[0][0][0], approx[0][0][1])\n",
    "        extBotLeft  = (approx[1][0][0], approx[1][0][1])\n",
    "        extBotRight = (approx[2][0][0], approx[2][0][1])\n",
    "        extTopRight = (approx[3][0][0], approx[3][0][1])\n",
    "        break\n",
    "\n",
    "        \n"
   ]
  },
  {
   "cell_type": "code",
   "execution_count": 7,
   "metadata": {},
   "outputs": [],
   "source": [
    "# draw the outline of the object, then draw each of the\n",
    "# extreme points\n",
    "cv2.drawContours(img, [sheetContour], -1, (0, 255, 255), 2)\n",
    "cv2.circle(img, extTopLeft, 20, (120, 120, 255), -1)\n",
    "cv2.circle(img, extBotLeft,20, (65, 255, 120), -1)\n",
    "cv2.circle(img, extBotRight, 20, (255, 90, 180), -1)\n",
    "cv2.circle(img, extTopRight, 20, (255, 255, 0), -1)\n",
    "\n",
    "# show the output image\n",
    "cv2.imshow(\"Rectangular Contour(Rectangular Sheet OMR)\", img)\n",
    "cv2.waitKey(0)\n",
    "cv2.destroyAllWindows()\n",
    "\n",
    "#extTopLeft, extTopRight, extBotLeft, extBotRight\n",
    "#extTopLeft, extBotLeft, extBotRight, extTopRight\n"
   ]
  },
  {
   "cell_type": "code",
   "execution_count": 8,
   "metadata": {},
   "outputs": [],
   "source": [
    "cv2.imshow('Original', image)\n",
    "cv2.waitKey(0)\n",
    "\n",
    "# Cordinates of the 4 corners of the original image\n",
    "points_A = np.float32([extTopLeft, extTopRight, extBotLeft, extBotRight])\n",
    "\n",
    "# Cordinates of the 4 corners of the desired output\n",
    "points_B = np.float32([[0,0], [420,0], [0,594], [420,594]])\n",
    " \n",
    "# compute the Perspective Transformation matrix   \n",
    "matrix = cv2.getPerspectiveTransform(points_A, points_B)\n",
    "warpedOrginal = cv2.warpPerspective(imageOrginal, matrix, (420,594)) \n",
    "warped = cv2.warpPerspective(image, matrix, (420,594))\n",
    " \n",
    "cv2.imshow('warpPerspective', warpedOrginal)\n",
    "cv2.waitKey(0)\n",
    "cv2.destroyAllWindows()"
   ]
  },
  {
   "cell_type": "code",
   "execution_count": 9,
   "metadata": {},
   "outputs": [],
   "source": [
    "# Use erosion if required \n",
    "'''# Let's define our kernel size\n",
    "kernel = np.ones((5,5), np.uint8)\n",
    "\n",
    "# Now we erode\n",
    "erosion = cv2.erode(warped.copy(), kernel, iterations = 1)\n",
    "cv2.imshow('Erosion', erosion)\n",
    "cv2.waitKey(0)\n",
    "'''\n",
    "# if not using erosion then just copy above value\n",
    "erosion = warped.copy()\n",
    "\n",
    "#use second argument as per requirement or accoring to document B/w ratio \n",
    "_,warpedThresh = cv2.threshold(erosion.copy(), 250, 255,cv2.THRESH_BINARY_INV )\n",
    "cv2.imshow('Threshold Binary', warpedThresh)\n",
    "cv2.waitKey(0) \n",
    "cv2.destroyAllWindows()\n",
    "\n",
    "# Canny Edge Detection\n",
    "warpedEdged = cv2.Canny(warpedThresh.copy(), 75, 200)\n",
    "cv2.imshow('Canny', warpedEdged)\n",
    "cv2.waitKey(0)\n",
    "\n",
    "cv2.destroyAllWindows()"
   ]
  },
  {
   "cell_type": "code",
   "execution_count": 10,
   "metadata": {
    "tags": []
   },
   "outputs": [
    {
     "output_type": "stream",
     "name": "stdout",
     "text": "Total Number of contours =  72\nCircular contours =  40\n"
    }
   ],
   "source": [
    "# Find contours inside the sheet (Only Focus on circular once with perticular diameter)\n",
    "\n",
    "contours, hierarchy = cv2.findContours(warpedEdged.copy(), cv2.RETR_EXTERNAL, cv2.CHAIN_APPROX_NONE)\n",
    "print (\"Total Number of contours = \", len(contours))\n",
    "\n",
    "\n",
    "circularCnts = []\n",
    "for c in contours:\n",
    "    (x, y, w, h) = cv2.boundingRect(c)\n",
    "    ar = w / float(h)\n",
    "    # in order to label the contour as a bubble, region\n",
    "    # should be sufficiently wide, sufficiently tall, and\n",
    "    # have an aspect ratio approximately equal to 1\n",
    "    if w >= 25 and h >= 25 and ar >= 0.8 and ar <= 1.2:\n",
    "        circularCnts.append(c)\n",
    "\n",
    "print (\"Circular contours = \", len(circularCnts))\n",
    "\n",
    "\n",
    "target = warped.copy();\n",
    "for c in circularCnts:\n",
    "    cv2.drawContours(target, [c], -1, (0,255,255), 3)        \n",
    "\n",
    "cv2.imshow('circular Contours', target)\n",
    "cv2.waitKey()        \n",
    "cv2.destroyAllWindows()"
   ]
  },
  {
   "cell_type": "code",
   "execution_count": 11,
   "metadata": {},
   "outputs": [],
   "source": [
    "def x_cord_contour(contours):\n",
    "    #Returns the X cordinate for the contour centroid\n",
    "    M = cv2.moments(contours)\n",
    "    return (int(M['m10']/M['m00']))\n",
    "    \n",
    "def y_cord_contour(contours):\n",
    "    #Returns the Y cordinate for the contour centroid\n",
    "    M = cv2.moments(contours)\n",
    "    return (int(M['m01']/M['m00']))\n",
    "    \n",
    "\n",
    "\n",
    "# To sort question wise, use y as key first and then \n",
    "# sort n(no of options) bubble at a time using x as key\n",
    "\n",
    "contours_top_to_bottom = sorted(circularCnts, key = y_cord_contour, reverse = False)\n"
   ]
  },
  {
   "cell_type": "code",
   "execution_count": 12,
   "metadata": {},
   "outputs": [],
   "source": [
    "Quiz = warpedOrginal.copy()\n",
    "ANSWER_KEY = {0: 1, 1: 2, 2: 0, 3: 3, 4: 1, 5: 1, 6: 2, 7: 0, 8: 3, 9: 1}"
   ]
  },
  {
   "cell_type": "code",
   "execution_count": 14,
   "metadata": {},
   "outputs": [],
   "source": [
    "correct = 0\n",
    "# each question has 4 possible answers, to loop over the\n",
    "# question in batches of 4\n",
    "for (q, i) in enumerate(np.arange(0, len(contours_top_to_bottom), 4)):\n",
    "    # sort the contours for the current question from\n",
    "    # left to right, then initialize the index of the bubbled answer\n",
    "    \n",
    "    cnts = sorted(contours_top_to_bottom[i:i + 4], key = x_cord_contour, reverse = False)\n",
    "    bubbled = None\n",
    "    \n",
    "    # loop over the sorted contours\n",
    "    for (j, c) in enumerate(cnts):\n",
    "        # construct a mask that reveals only the current\n",
    "        # \"bubble\" for the question\n",
    "        mask = np.zeros(warpedThresh.shape, dtype=\"uint8\")\n",
    "        cv2.drawContours(mask, [c], -1, 255, -1)\n",
    "        # apply the mask to the thresholded image, then\n",
    "        # count the number of non-zero pixels in the bubble area\n",
    "        mask = cv2.bitwise_and(warpedThresh, warpedThresh, mask=mask)\n",
    "        \n",
    "        #cv2.drawContours(mask, [c], -1, 255, -1)\n",
    "        #cv2.imshow('Outputly', warpedThresh)\n",
    "        #cv2.imshow('Output', mask)\n",
    "        cv2.waitKey()        \n",
    "        cv2.destroyAllWindows()\n",
    "        \n",
    "        \n",
    "        total = cv2.countNonZero(mask)\n",
    "        #print(total)\n",
    "        # if the current total has a larger number of total\n",
    "        # non-zero pixels, then we are examining the currently bubbled-in answer\n",
    "        if bubbled is None or total > bubbled[0]:\n",
    "            bubbled = (total, j)\n",
    "        # initialize the contour color and the index of the\n",
    "\n",
    "    color = (0, 0, 255) \n",
    "    k = ANSWER_KEY[q]   #ans of this ques\n",
    "    #print(q)\n",
    "    #print(k)\n",
    "    # check to see if the bubbled answer is correct\n",
    "    if k == bubbled[1]:\n",
    "        color = (0, 255, 0)\n",
    "        correct += 1\n",
    "    # draw the outline of the correct answer on the test\n",
    "    cv2.drawContours(Quiz, [cnts[k]], -1, color, 3)"
   ]
  },
  {
   "cell_type": "code",
   "execution_count": 17,
   "metadata": {
    "tags": []
   },
   "outputs": [
    {
     "output_type": "stream",
     "name": "stdout",
     "text": "Percentage: 30.00%\n"
    }
   ],
   "source": [
    "# grab the test taker\n",
    "score = (correct / 10.0) * 100\n",
    "print(\"Percentage: {:.2f}%\".format(score))\n",
    "cv2.putText(Quiz, \"Percentage: {:.2f}%\".format(score), (0, Quiz.shape[1]+160),cv2.FONT_HERSHEY_SIMPLEX, 0.5, (255, 0, 0), 2)\n",
    "cv2.imshow(\"Original\", image)\n",
    "cv2.imshow(\"Exam\", Quiz)\n",
    "cv2.waitKey(0)\n",
    "cv2.destroyAllWindows()"
   ]
  },
  {
   "cell_type": "code",
   "execution_count": null,
   "metadata": {},
   "outputs": [],
   "source": []
  }
 ],
 "metadata": {
  "kernelspec": {
   "display_name": "Python 3",
   "language": "python",
   "name": "python3"
  },
  "language_info": {
   "codemirror_mode": {
    "name": "ipython",
    "version": 3
   },
   "file_extension": ".py",
   "mimetype": "text/x-python",
   "name": "python",
   "nbconvert_exporter": "python",
   "pygments_lexer": "ipython3",
   "version": "3.7.6-final"
  }
 },
 "nbformat": 4,
 "nbformat_minor": 4
}